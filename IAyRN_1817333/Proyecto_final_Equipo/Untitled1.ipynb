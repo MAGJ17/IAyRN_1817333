{
  "nbformat": 4,
  "nbformat_minor": 0,
  "metadata": {
    "colab": {
      "provenance": [],
      "authorship_tag": "ABX9TyPU+lrMCGRZj85uHwA4Zcif",
      "include_colab_link": true
    },
    "kernelspec": {
      "name": "python3",
      "display_name": "Python 3"
    },
    "language_info": {
      "name": "python"
    }
  },
  "cells": [
    {
      "cell_type": "markdown",
      "metadata": {
        "id": "view-in-github",
        "colab_type": "text"
      },
      "source": [
        "<a href=\"https://colab.research.google.com/github/MAGJ17/IAyRN_1817333/blob/main/IAyRN_1817333/Proyecto_final_Equipo/Untitled1.ipynb\" target=\"_parent\"><img src=\"https://colab.research.google.com/assets/colab-badge.svg\" alt=\"Open In Colab\"/></a>"
      ]
    },
    {
      "cell_type": "code",
      "execution_count": null,
      "metadata": {
        "colab": {
          "base_uri": "https://localhost:8080/",
          "height": 303
        },
        "id": "MjVcYnalZ0W8",
        "outputId": "112f3f35-b29c-49fa-be78-634c211d07b8"
      },
      "outputs": [
        {
          "output_type": "stream",
          "name": "stdout",
          "text": [
            "Downloading data from https://storage.googleapis.com/tensorflow/tf-keras-datasets/mnist.npz\n",
            "11490434/11490434 [==============================] - 0s 0us/step\n"
          ]
        },
        {
          "output_type": "display_data",
          "data": {
            "text/plain": [
              "<Figure size 432x288 with 4 Axes>"
            ],
            "image/png": "[encoded data removed]"
          },
          "metadata": {
            "needs_background": "light"
          }
        }
      ],
      "source": [
        "from keras.datasets import mnist\n",
        "import matplotlib.pyplot as plt\n",
        "# cargar (descargar si es necesario) el conjunto de datos MNIST\n",
        "(X_train, y_train), (X_test, y_test) = mnist.load_data()\n",
        "# plot 4 imagenes en escala de grises\n",
        "plt.subplot(221)\n",
        "plt.imshow(X_train[8], cmap=plt.get_cmap('gray'))\n",
        "plt.subplot(222)\n",
        "plt.imshow(X_train[13], cmap=plt.get_cmap('gray'))\n",
        "plt.subplot(223)\n",
        "plt.imshow(X_train[22], cmap=plt.get_cmap('gray'))\n",
        "plt.subplot(224)\n",
        "plt.imshow(X_train[5], cmap=plt.get_cmap('gray'))\n",
        "# muestra el plot\n",
        "plt.show()"
      ]
    },
    {
      "cell_type": "code",
      "source": [
        "import numpy\n",
        "from keras.datasets import mnist\n",
        "from keras.models import Sequential\n",
        "from keras.layers import Dense\n",
        "from keras.layers import Dropout\n",
        "from keras.utils import np_utils"
      ],
      "metadata": {
        "id": "nutXDSKmZ7CN"
      },
      "execution_count": null,
      "outputs": []
    },
    {
      "cell_type": "code",
      "source": [
        "# generador de números aleatorios\n",
        "seed = 7\n",
        "numpy.random.seed(seed)"
      ],
      "metadata": {
        "id": "R1F_N5dbZ_oz"
      },
      "execution_count": null,
      "outputs": []
    },
    {
      "cell_type": "code",
      "source": [
        "# cargamos los datos\n",
        "(X_train, y_train), (X_test, y_test) = mnist.load_data()"
      ],
      "metadata": {
        "id": "th2OnnE9aBjT"
      },
      "execution_count": null,
      "outputs": []
    },
    {
      "cell_type": "code",
      "source": [
        "num_pixels = X_train.shape[1] * X_train.shape[2]\n",
        "X_train = X_train.reshape(X_train.shape[0], num_pixels).astype('float32')\n",
        "X_test = X_test.reshape(X_test.shape[0], num_pixels).astype('float32')"
      ],
      "metadata": {
        "id": "d_acTmU4aDIX"
      },
      "execution_count": null,
      "outputs": []
    },
    {
      "cell_type": "code",
      "source": [
        "# normalizamos las entradas desde 0-255 a 0-1\n",
        "X_train = X_train / 255\n",
        "X_test = X_test / 255"
      ],
      "metadata": {
        "id": "6SzyLbiNaEqj"
      },
      "execution_count": null,
      "outputs": []
    },
    {
      "cell_type": "code",
      "source": [
        "# una codificacion en caliente a la salida\n",
        "y_train = np_utils.to_categorical(y_train)\n",
        "y_test = np_utils.to_categorical(y_test)\n",
        "num_classes = y_test.shape[1]"
      ],
      "metadata": {
        "id": "7GDMM7JcaGBd"
      },
      "execution_count": null,
      "outputs": []
    },
    {
      "cell_type": "code",
      "source": [
        "# definismos la linea base del modelo\n",
        "def baseline_model():\n",
        "  # creamos el modelo\n",
        "  model = Sequential()\n",
        "  model.add(Dense(num_pixels, input_dim=num_pixels, kernel_initializer='normal',\n",
        "     activation='relu'))\n",
        "  model.add(Dense(num_classes, kernel_initializer='normal', activation='softmax'))\n",
        "  # Compilamos el modelo\n",
        "  model.compile(loss='categorical_crossentropy', optimizer='adam', metrics=['accuracy'])\n",
        "  return model"
      ],
      "metadata": {
        "id": "1Gb60wh5aIv8"
      },
      "execution_count": null,
      "outputs": []
    },
    {
      "cell_type": "code",
      "source": [
        "# construye el modelo\n",
        "model = baseline_model()\n",
        "# ajusta el modelo\n",
        "model.fit(X_train, y_train, validation_data=(X_test, y_test), epochs=10, batch_size=200,\n",
        "verbose=2)\n",
        "# Final evaluacion del model\n",
        "scores = model.evaluate(X_test, y_test, verbose=0)\n",
        "print(\"Error de linea base: %.2f%%\" % (100-scores[1]*100))"
      ],
      "metadata": {
        "colab": {
          "base_uri": "https://localhost:8080/"
        },
        "id": "msuIJsnaaJOs",
        "outputId": "0ecdeb85-3776-4304-b129-2240fa9d696e"
      },
      "execution_count": null,
      "outputs": [
        {
          "output_type": "stream",
          "name": "stdout",
          "text": [
            "Epoch 1/10\n",
            "300/300 - 4s - loss: 0.2843 - accuracy: 0.9194 - val_loss: 0.1454 - val_accuracy: 0.9561 - 4s/epoch - 12ms/step\n",
            "Epoch 2/10\n",
            "300/300 - 3s - loss: 0.1149 - accuracy: 0.9664 - val_loss: 0.0945 - val_accuracy: 0.9716 - 3s/epoch - 10ms/step\n",
            "Epoch 3/10\n",
            "300/300 - 3s - loss: 0.0720 - accuracy: 0.9788 - val_loss: 0.0769 - val_accuracy: 0.9765 - 3s/epoch - 11ms/step\n",
            "Epoch 4/10\n",
            "300/300 - 3s - loss: 0.0507 - accuracy: 0.9851 - val_loss: 0.0727 - val_accuracy: 0.9770 - 3s/epoch - 10ms/step\n",
            "Epoch 5/10\n",
            "300/300 - 3s - loss: 0.0364 - accuracy: 0.9901 - val_loss: 0.0630 - val_accuracy: 0.9793 - 3s/epoch - 10ms/step\n",
            "Epoch 6/10\n",
            "300/300 - 3s - loss: 0.0274 - accuracy: 0.9926 - val_loss: 0.0618 - val_accuracy: 0.9808 - 3s/epoch - 11ms/step\n",
            "Epoch 7/10\n",
            "300/300 - 3s - loss: 0.0208 - accuracy: 0.9946 - val_loss: 0.0652 - val_accuracy: 0.9802 - 3s/epoch - 11ms/step\n",
            "Epoch 8/10\n",
            "300/300 - 3s - loss: 0.0146 - accuracy: 0.9967 - val_loss: 0.0621 - val_accuracy: 0.9806 - 3s/epoch - 11ms/step\n",
            "Epoch 9/10\n",
            "300/300 - 3s - loss: 0.0106 - accuracy: 0.9980 - val_loss: 0.0781 - val_accuracy: 0.9749 - 3s/epoch - 11ms/step\n",
            "Epoch 10/10\n",
            "300/300 - 3s - loss: 0.0082 - accuracy: 0.9986 - val_loss: 0.0601 - val_accuracy: 0.9816 - 3s/epoch - 10ms/step\n",
            "Error de linea base: 1.84%\n"
          ]
        }
      ]
    },
    {
      "cell_type": "code",
      "source": [
        "# linea base de MLP para MNIST dataset\n",
        "import numpy\n",
        "from keras.datasets import mnist\n",
        "from keras.models import Sequential\n",
        "from keras.layers import Dense\n",
        "from keras.utils import np_utils\n",
        "# semilla de reproducibilidad\n",
        "seed = 7\n",
        "numpy.random.seed(seed)\n",
        "# cargamos los datos\n",
        "(X_train, y_train), (X_test, y_test) = mnist.load_data()\n",
        " \n",
        "num_pixels = X_train.shape[1] * X_train.shape[2]\n",
        "X_train = X_train.reshape(X_train.shape[0], num_pixels).astype('float32')\n",
        "X_test = X_test.reshape(X_test.shape[0], num_pixels).astype('float32')\n",
        "# normaliza las entradas de 0-255 a 0-1\n",
        "X_train = X_train / 255\n",
        "X_test = X_test / 255\n",
        "# codificacion en caliente a la salida\n",
        "y_train = np_utils.to_categorical(y_train)\n",
        "y_test = np_utils.to_categorical(y_test)\n",
        "num_classes = y_test.shape[1]\n",
        " \n",
        "# define la linea base del modelo\n",
        "def baseline_model():\n",
        "  # crea el modelo\n",
        "  model = Sequential()\n",
        "  model.add(Dense(num_pixels, input_dim=num_pixels, kernel_initializer='normal',\n",
        "activation='relu'))\n",
        "  model.add(Dense(num_classes, kernel_initializer='normal', activation='softmax'))\n",
        "  # Compila el modelo\n",
        "  model.compile(loss='categorical_crossentropy', optimizer='adam', metrics=['accuracy'])\n",
        "  return model\n",
        " \n",
        "# Construir del modelo\n",
        "model = baseline_model()\n",
        "# Ajusta el modelo\n",
        "model.fit(X_train, y_train, validation_data=(X_test, y_test), epochs=10, batch_size=200,\n",
        "verbose=2)\n",
        "# Final evaluacion del modelo\n",
        "scores = model.evaluate(X_test, y_test, verbose=0)\n",
        "print(\"Baseline Error: %.2f%%\" % (100-scores[1]*100))"
      ],
      "metadata": {
        "colab": {
          "base_uri": "https://localhost:8080/"
        },
        "id": "isRN5EDfaNoE",
        "outputId": "5fdf53a3-e89f-4275-9767-444cb9633273"
      },
      "execution_count": null,
      "outputs": [
        {
          "output_type": "stream",
          "name": "stdout",
          "text": [
            "Epoch 1/10\n",
            "300/300 - 4s - loss: 0.2788 - accuracy: 0.9211 - val_loss: 0.1403 - val_accuracy: 0.9586 - 4s/epoch - 13ms/step\n",
            "Epoch 2/10\n",
            "300/300 - 3s - loss: 0.1094 - accuracy: 0.9684 - val_loss: 0.1000 - val_accuracy: 0.9707 - 3s/epoch - 10ms/step\n",
            "Epoch 3/10\n",
            "300/300 - 3s - loss: 0.0728 - accuracy: 0.9788 - val_loss: 0.0866 - val_accuracy: 0.9721 - 3s/epoch - 11ms/step\n",
            "Epoch 4/10\n",
            "300/300 - 6s - loss: 0.0503 - accuracy: 0.9856 - val_loss: 0.0721 - val_accuracy: 0.9785 - 6s/epoch - 21ms/step\n",
            "Epoch 5/10\n",
            "300/300 - 5s - loss: 0.0363 - accuracy: 0.9897 - val_loss: 0.0647 - val_accuracy: 0.9795 - 5s/epoch - 18ms/step\n",
            "Epoch 6/10\n",
            "300/300 - 3s - loss: 0.0279 - accuracy: 0.9923 - val_loss: 0.0577 - val_accuracy: 0.9829 - 3s/epoch - 11ms/step\n",
            "Epoch 7/10\n",
            "300/300 - 3s - loss: 0.0193 - accuracy: 0.9952 - val_loss: 0.0566 - val_accuracy: 0.9828 - 3s/epoch - 11ms/step\n",
            "Epoch 8/10\n",
            "300/300 - 3s - loss: 0.0141 - accuracy: 0.9968 - val_loss: 0.0649 - val_accuracy: 0.9804 - 3s/epoch - 11ms/step\n",
            "Epoch 9/10\n",
            "300/300 - 3s - loss: 0.0119 - accuracy: 0.9973 - val_loss: 0.0604 - val_accuracy: 0.9807 - 3s/epoch - 11ms/step\n",
            "Epoch 10/10\n",
            "300/300 - 3s - loss: 0.0076 - accuracy: 0.9987 - val_loss: 0.0635 - val_accuracy: 0.9809 - 3s/epoch - 11ms/step\n",
            "Baseline Error: 1.91%\n"
          ]
        }
      ]
    },
    {
      "cell_type": "code",
      "source": [],
      "metadata": {
        "id": "4tefwb6laOSL"
      },
      "execution_count": null,
      "outputs": []
    }
  ]
}