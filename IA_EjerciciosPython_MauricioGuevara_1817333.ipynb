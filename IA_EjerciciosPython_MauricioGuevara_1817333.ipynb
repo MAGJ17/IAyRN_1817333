{
  "nbformat": 4,
  "nbformat_minor": 0,
  "metadata": {
    "colab": {
      "provenance": [],
      "collapsed_sections": [],
      "authorship_tag": "ABX9TyMGm+nw0Lw3KsaiHiGu6jcX",
      "include_colab_link": true
    },
    "kernelspec": {
      "name": "python3",
      "display_name": "Python 3"
    },
    "language_info": {
      "name": "python"
    }
  },
  "cells": [
    {
      "cell_type": "markdown",
      "metadata": {
        "id": "view-in-github",
        "colab_type": "text"
      },
      "source": [
        "<a href=\"https://colab.research.google.com/github/MAGJ17/IAyRN_1817333/blob/main/IA_EjerciciosPython_MauricioGuevara_1817333.ipynb\" target=\"_parent\"><img src=\"https://colab.research.google.com/assets/colab-badge.svg\" alt=\"Open In Colab\"/></a>"
      ]
    },
    {
      "cell_type": "markdown",
      "source": [
        "ACTIVIDAD FUNDAMENTAL No 2 - EJERCICIOS PYTHON -\n",
        "Mauricio Abelardo Guevara Jiménez -\n",
        "1817333 -\n",
        "Sabatino N1"
      ],
      "metadata": {
        "id": "oLeT7UO6VR1Q"
      }
    },
    {
      "cell_type": "code",
      "source": [
        "#Escribe un programa que le pida al usuario su nombre y lo salude, excepto si se llama Ana, Juan y Pedro"
      ],
      "metadata": {
        "id": "vm5HRDFvVe3A"
      },
      "execution_count": null,
      "outputs": []
    },
    {
      "cell_type": "code",
      "source": [
        "nombre = input(\"Introduce tu nombre \")\n",
        "if nombre == \"Ana\":\n",
        "  print(\"NA\")\n",
        "elif nombre == \"Pedro\":\n",
        "  print(\"NA\")\n",
        "elif nombre == \"Juan\":\n",
        "  print(\"NA\")\n",
        "else:\n",
        "  print(\"Hola\" + \" \" + nombre + \"!\")"
      ],
      "metadata": {
        "id": "R4fAX9TlWEXJ"
      },
      "execution_count": null,
      "outputs": []
    },
    {
      "cell_type": "code",
      "source": [
        "#Escribe una función que regrese el último elemento de una lista y que revierta el orden de la lista la imprima revertida"
      ],
      "metadata": {
        "id": "Rfug9cx-fMkb"
      },
      "execution_count": null,
      "outputs": []
    },
    {
      "cell_type": "code",
      "source": [
        "def funcion(lista):\n",
        "  print(lista[-1])\n",
        "  for i in reversed(lista):\n",
        "    print(i)\n",
        "Resultado = input(\"Introduce el listado \")\n",
        "\n",
        "funcion(Resultado)"
      ],
      "metadata": {
        "id": "hXyPJhDKphQQ"
      },
      "execution_count": null,
      "outputs": []
    },
    {
      "cell_type": "code",
      "source": [
        "#Escribe una función que tome una lista de strings y los imprima línea por línea en un marco rectangular"
      ],
      "metadata": {
        "id": "WxF0D6g7ro-q"
      },
      "execution_count": null,
      "outputs": []
    },
    {
      "cell_type": "code",
      "source": [
        "list = [\"Hola\", \"a\", \"todos\", \"este\", \"es\", \"un\", \"marco\", \"rectangular\"]\n",
        "print(\"Marco rectangular:\")\n",
        "for Marco in list:\n",
        "    print(Marco)"
      ],
      "metadata": {
        "id": "QXpmwfn1rxOp"
      },
      "execution_count": null,
      "outputs": []
    }
  ]
}